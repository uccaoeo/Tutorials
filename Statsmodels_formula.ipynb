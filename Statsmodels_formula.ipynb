{
  "nbformat": 4,
  "nbformat_minor": 0,
  "metadata": {
    "colab": {
      "name": "Untitled10.ipynb",
      "provenance": [],
      "authorship_tag": "ABX9TyO+WVpfD9xGr6Z+REPFFm1X",
      "include_colab_link": true
    },
    "kernelspec": {
      "name": "python3",
      "display_name": "Python 3"
    }
  },
  "cells": [
    {
      "cell_type": "markdown",
      "metadata": {
        "id": "view-in-github",
        "colab_type": "text"
      },
      "source": [
        "<a href=\"https://colab.research.google.com/github/uccaoeo/Tutorials/blob/master/Statsmodels_formula.ipynb\" target=\"_parent\"><img src=\"https://colab.research.google.com/assets/colab-badge.svg\" alt=\"Open In Colab\"/></a>"
      ]
    },
    {
      "cell_type": "code",
      "metadata": {
        "id": "qAzbhao0uAN-",
        "colab_type": "code",
        "colab": {
          "base_uri": "https://localhost:8080/",
          "height": 782
        },
        "outputId": "01b8b383-da3d-4772-9ffb-79db93ebb5a7"
      },
      "source": [
        "%matplotlib inline\n",
        "import matplotlib as mpl\n",
        "import seaborn as sns\n",
        "import matplotlib.pyplot as plt\n",
        "#import statsmodels.graphics.api as smf       #commented out, we need to import OLS from the statsmodel FORMULA not the Graphic\n",
        "import statsmodels.formula.api as smf\n",
        "import statsmodels.api as sm\n",
        "import pandas as pd\n",
        "import pandas.util.testing as tm\n",
        "import numpy as np\n",
        "import patsy\n",
        "from statsmodels.graphics.correlation import plot_corr\n",
        "from sklearn.model_selection import train_test_split\n",
        "plt.style.use('seaborn')\n",
        "boston_data= pd.read_csv('https://raw.githubusercontent.com/PacktWorkshops/The-Data-Science-Workshop/master/Chapter02/Dataset/Boston.csv')\n",
        "boston_data = boston_data.dropna()  #Drop missing or null values to obtain a clean dataset\n",
        "boston_data = boston_data.drop_duplicates() #check for and drop duplicate records in the dataset.\n",
        "list(boston_data.columns)   #List the column names of the Dataframe.\n",
        "renameboston_data= boston_data.rename(columns={'CRIM': 'crimeRatePerCapita', ' ZN ':' landOver25K_sqft', 'INDUS ':'non-retailandProptn ','CHAS':'riverDummy','NOX':'nitrioxide+ppm','RM':'AvgNo.RoomsPerdwelling','AGE':'ProptnOwnerOccupied','DIS':'WeightedDist','RAD':'radialHighwaysAccess','TAX':'propTaxRate_per10K','PTRATIO':'pupilTeacherRatio','LSTAT':'pctLowerStatus','MEDV':'medianValue_Ks'})\n",
        "# modify names to match the datast...be careful of white spaces...\n",
        "renameboston_data.head()\n",
        "renameboston_data.info()   #inspect the datatypes of columns in your Dataframe, confirm there are no missing value.\n",
        "renameboston_data.describe(include= [np.number]).T  #Use to calculate simple statistics of the Dataframe including count, mean, standard deviation, minimum, maximum, percentiles and what have you.\n",
        "X = renameboston_data.drop('crimeRatePerCapita', axis=1)  # drop the dependent variable using the DROP function...drop crimeRateCapita\n",
        "y = renameboston_data[['crimeRatePerCapita']]  #load the dependent variable into y....\n",
        "seed = 10        # set seed\n",
        "test_data_size = 0.3     #how much of your data do you want to test...\n",
        "X_train, X_test, y_train, y_test = train_test_split(X, y, test_size =test_data_size, random_state=seed)  #split your data, train and test the model..Good Practise\n",
        "train_data =pd.concat([X_train, y_train], axis = 1)   #train data set\n",
        "test_data = pd.concat([X_test, y_train], axis = 1)   #test data set\n",
        "linearModel = smf.ols(formula= 'crimeRatePerCapita ~ medianValue_Ks', data=train_data)\n",
        "linearModelResult= linearModel.fit()\n",
        "print(linearModelResult.summary())\n"
      ],
      "execution_count": 15,
      "outputs": [
        {
          "output_type": "stream",
          "text": [
            "<class 'pandas.core.frame.DataFrame'>\n",
            "Int64Index: 506 entries, 0 to 505\n",
            "Data columns (total 13 columns):\n",
            " #   Column                  Non-Null Count  Dtype  \n",
            "---  ------                  --------------  -----  \n",
            " 0   crimeRatePerCapita      506 non-null    float64\n",
            " 1    landOver25K_sqft       506 non-null    float64\n",
            " 2   non-retailandProptn     506 non-null    float64\n",
            " 3   riverDummy              506 non-null    int64  \n",
            " 4   nitrioxide+ppm          506 non-null    float64\n",
            " 5   AvgNo.RoomsPerdwelling  506 non-null    float64\n",
            " 6   ProptnOwnerOccupied     506 non-null    float64\n",
            " 7   WeightedDist            506 non-null    float64\n",
            " 8   radialHighwaysAccess    506 non-null    int64  \n",
            " 9   propTaxRate_per10K      506 non-null    int64  \n",
            " 10  pupilTeacherRatio       506 non-null    float64\n",
            " 11  pctLowerStatus          506 non-null    float64\n",
            " 12  medianValue_Ks          506 non-null    float64\n",
            "dtypes: float64(10), int64(3)\n",
            "memory usage: 55.3 KB\n",
            "                            OLS Regression Results                            \n",
            "==============================================================================\n",
            "Dep. Variable:     crimeRatePerCapita   R-squared:                       0.144\n",
            "Model:                            OLS   Adj. R-squared:                  0.141\n",
            "Method:                 Least Squares   F-statistic:                     59.02\n",
            "Date:                Tue, 09 Jun 2020   Prob (F-statistic):           1.56e-13\n",
            "Time:                        16:18:43   Log-Likelihood:                -1217.4\n",
            "No. Observations:                 354   AIC:                             2439.\n",
            "Df Residuals:                     352   BIC:                             2447.\n",
            "Df Model:                           1                                         \n",
            "Covariance Type:            nonrobust                                         \n",
            "==================================================================================\n",
            "                     coef    std err          t      P>|t|      [0.025      0.975]\n",
            "----------------------------------------------------------------------------------\n",
            "Intercept         11.2094      1.079     10.386      0.000       9.087      13.332\n",
            "medianValue_Ks    -0.3502      0.046     -7.683      0.000      -0.440      -0.261\n",
            "==============================================================================\n",
            "Omnibus:                      447.354   Durbin-Watson:                   1.928\n",
            "Prob(Omnibus):                  0.000   Jarque-Bera (JB):            39791.431\n",
            "Skew:                           5.897   Prob(JB):                         0.00\n",
            "Kurtosis:                      53.583   Cond. No.                         63.7\n",
            "==============================================================================\n",
            "\n",
            "Warnings:\n",
            "[1] Standard Errors assume that the covariance matrix of the errors is correctly specified.\n"
          ],
          "name": "stdout"
        }
      ]
    }
  ]
}