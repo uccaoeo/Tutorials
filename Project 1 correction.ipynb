{
  "nbformat": 4,
  "nbformat_minor": 0,
  "metadata": {
    "colab": {
      "name": "Untitled5.ipynb",
      "provenance": [],
      "collapsed_sections": [],
      "authorship_tag": "ABX9TyNw3GQPREkalEhlljr18rov",
      "include_colab_link": true
    },
    "kernelspec": {
      "name": "python3",
      "display_name": "Python 3"
    }
  },
  "cells": [
    {
      "cell_type": "markdown",
      "metadata": {
        "id": "view-in-github",
        "colab_type": "text"
      },
      "source": [
        "<a href=\"https://colab.research.google.com/github/uccaoeo/Tutorials/blob/master/Project%201%20correction.ipynb\" target=\"_parent\"><img src=\"https://colab.research.google.com/assets/colab-badge.svg\" alt=\"Open In Colab\"/></a>"
      ]
    },
    {
      "cell_type": "code",
      "metadata": {
        "id": "6-wfSy-QDg53",
        "colab_type": "code",
        "outputId": "0d78c840-e578-43e1-e78a-a2e64cb749fa",
        "colab": {
          "base_uri": "https://localhost:8080/",
          "height": 34
        }
      },
      "source": [
        "import pandas as pd    # to use the pandas \n",
        "from sklearn.ensemble import RandomForestClassifier   # bringing in the model\n",
        "from sklearn.metrics import accuracy_score #use to get accuracy score\n",
        "email_data = pd.read_csv('https://raw.githubusercontent.com/PacktWorkshops/The-Data-Science-Workshop/master/Chapter01/Dataset/dataset_44_spambase.csv') #read database into email_data\n",
        "target = email_data.pop('class') #cut out the column class and paste into a variable called target...series\n",
        "rf_model=RandomForestClassifier(random_state=1) # setting up model and the hyperparameter\n",
        "rf_model.fit(email_data, target)  #training the model and fitting\n",
        "preds = rf_model.predict(email_data) # predict the ability of model\n",
        "accuracy_score(target, preds) #get an accuracy score.\n"
      ],
      "execution_count": 2,
      "outputs": [
        {
          "output_type": "execute_result",
          "data": {
            "text/plain": [
              "0.9993479678330798"
            ]
          },
          "metadata": {
            "tags": []
          },
          "execution_count": 2
        }
      ]
    }
  ]
}