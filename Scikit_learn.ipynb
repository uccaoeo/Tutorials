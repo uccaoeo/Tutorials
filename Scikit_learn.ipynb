{
  "nbformat": 4,
  "nbformat_minor": 0,
  "metadata": {
    "colab": {
      "name": "Untitled3.ipynb",
      "provenance": [],
      "collapsed_sections": [],
      "authorship_tag": "ABX9TyOEXtZEHzW1Ig+DhWlo/SPt",
      "include_colab_link": true
    },
    "kernelspec": {
      "name": "python3",
      "display_name": "Python 3"
    }
  },
  "cells": [
    {
      "cell_type": "markdown",
      "metadata": {
        "id": "view-in-github",
        "colab_type": "text"
      },
      "source": [
        "<a href=\"https://colab.research.google.com/github/uccaoeo/Tutorials/blob/master/Scikit_learn.ipynb\" target=\"_parent\"><img src=\"https://colab.research.google.com/assets/colab-badge.svg\" alt=\"Open In Colab\"/></a>"
      ]
    },
    {
      "cell_type": "code",
      "metadata": {
        "id": "FXCeIzmH1nsV",
        "colab_type": "code",
        "colab": {
          "base_uri": "https://localhost:8080/",
          "height": 34
        },
        "outputId": "aa5bce86-fcc6-477c-e65c-424d205149d9"
      },
      "source": [
        "from sklearn.ensemble import RandomForestClassifier   #RandomForest and GradientBoosting are under the ensemble module. This is how to import RandomForest\n",
        "from sklearn.metrics import accuracy_score  #assess the model performance\n",
        "#Step 1; Instantiate a model specifying the hyperparameters.\n",
        "rf_model= RandomForestClassifier(random_state=1) #create a variable and random state is used to get reproducible results everytime you have to run the same code.\n",
        "#Step 2; train the model with some data\n",
        "from sklearn.datasets import load_wine   #load dataset from sklearn...178 instances of italian wines, distributed into 3 categories based on 13 features.\n",
        "features, target = load_wine(return_X_y=True)    # features is X and our target is y\n",
        "rf_model.fit(features, target)  #this is to train the model  #output is a RandomForest model with the default hyperparameters.\n",
        "#next step is to predict the target for one or more observation\n",
        "preds = rf_model.predict(features)  #predict the target for one or more observations, preds is a new variable to store the predictions\n",
        "preds    #this will print the preditions # output shows that 178 wines are categorized into 3 sets, the 0, 1 and 2.\n",
        "#Step 4; Assess the model performance (import accuracy_score as above), then\n",
        "accuracy_score(target, preds)   # output shows 1, which means 100% of predictions matched actual true values\n",
        "\n",
        "\n",
        "\n",
        "\n",
        "\n",
        "\n",
        "\n",
        "\n",
        "\n"
      ],
      "execution_count": 6,
      "outputs": [
        {
          "output_type": "execute_result",
          "data": {
            "text/plain": [
              "1.0"
            ]
          },
          "metadata": {
            "tags": []
          },
          "execution_count": 6
        }
      ]
    }
  ]
}