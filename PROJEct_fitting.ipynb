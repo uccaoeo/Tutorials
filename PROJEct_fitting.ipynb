{
  "nbformat": 4,
  "nbformat_minor": 0,
  "metadata": {
    "colab": {
      "name": "Untitled11.ipynb",
      "provenance": [],
      "authorship_tag": "ABX9TyNteGJX+XDO2QQfIgqvzXHJ",
      "include_colab_link": true
    },
    "kernelspec": {
      "name": "python3",
      "display_name": "Python 3"
    }
  },
  "cells": [
    {
      "cell_type": "markdown",
      "metadata": {
        "id": "view-in-github",
        "colab_type": "text"
      },
      "source": [
        "<a href=\"https://colab.research.google.com/github/uccaoeo/Tutorials/blob/master/PROJEct_fitting.ipynb\" target=\"_parent\"><img src=\"https://colab.research.google.com/assets/colab-badge.svg\" alt=\"Open In Colab\"/></a>"
      ]
    },
    {
      "cell_type": "code",
      "metadata": {
        "id": "zWgbTU5-CaHy",
        "colab_type": "code",
        "colab": {
          "base_uri": "https://localhost:8080/",
          "height": 782
        },
        "outputId": "776162d1-96ea-4c58-e778-93b849e395bb"
      },
      "source": [
        "import pandas as pd\n",
        "import statsmodels.formula.api as smf\n",
        "import statsmodels.api as sm\n",
        "import patsy\n",
        "import numpy as np\n",
        "from sklearn.model_selection import train_test_split\n",
        "boston_data=pd.read_csv('https://raw.githubusercontent.com/PacktWorkshops/The-Data-Science-Workshop/master/Chapter02/Dataset/Boston.csv') \n",
        "boston_data=boston_data.dropna()\n",
        "boston_data=boston_data.drop_duplicates()\n",
        "# list(boston_data.columns) list the name of each column of boston_data...then change the column names to meaningful ones\n",
        "renameboston_data= boston_data.rename(columns={'CRIM': 'crimeRatePerCapita', ' ZN ':' landOver25K_sqft', 'INDUS ':'non-retailandProptn ','CHAS':'riverDummy','NOX':'nitrioxide+ppm','RM':'AvgNo.RoomsPerdwelling','AGE':'ProptnOwnerOccupied','DIS':'WeightedDist','RAD':'radialHighwaysAccess','TAX':'propTaxRate_per10K','PTRATIO':'pupilTeacherRatio','LSTAT':'pctLowerStatus','MEDV':'medianValue_Ks'})\n",
        "renameboston_data.head()\n",
        "renameboston_data.info()\n",
        "renameboston_data.describe(include= [np.number]).T \n",
        "X= renameboston_data.drop('crimeRatePerCapita', axis=1)\n",
        "y=renameboston_data[['crimeRatePerCapita']]\n",
        "seed=10\n",
        "test_data_size= 0.3\n",
        "X_train, X_test, y_train, y_test = train_test_split(X, y, test_size =test_data_size, random_state=seed)\n",
        "train_data=pd.concat([X_train, y_train], axis=1)\n",
        "test_data=pd.concat([X_test, y_train], axis=1)\n",
        "linearModel=smf.ols(formula= 'np.log(crimeRatePerCapita) ~ medianValue_Ks', data=train_data)\n",
        "linearModelResult=linearModel.fit()\n",
        "print(linearModelResult.summary())\n"
      ],
      "execution_count": 13,
      "outputs": [
        {
          "output_type": "stream",
          "text": [
            "<class 'pandas.core.frame.DataFrame'>\n",
            "Int64Index: 506 entries, 0 to 505\n",
            "Data columns (total 13 columns):\n",
            " #   Column                  Non-Null Count  Dtype  \n",
            "---  ------                  --------------  -----  \n",
            " 0   crimeRatePerCapita      506 non-null    float64\n",
            " 1    landOver25K_sqft       506 non-null    float64\n",
            " 2   non-retailandProptn     506 non-null    float64\n",
            " 3   riverDummy              506 non-null    int64  \n",
            " 4   nitrioxide+ppm          506 non-null    float64\n",
            " 5   AvgNo.RoomsPerdwelling  506 non-null    float64\n",
            " 6   ProptnOwnerOccupied     506 non-null    float64\n",
            " 7   WeightedDist            506 non-null    float64\n",
            " 8   radialHighwaysAccess    506 non-null    int64  \n",
            " 9   propTaxRate_per10K      506 non-null    int64  \n",
            " 10  pupilTeacherRatio       506 non-null    float64\n",
            " 11  pctLowerStatus          506 non-null    float64\n",
            " 12  medianValue_Ks          506 non-null    float64\n",
            "dtypes: float64(10), int64(3)\n",
            "memory usage: 55.3 KB\n",
            "                                OLS Regression Results                                \n",
            "======================================================================================\n",
            "Dep. Variable:     np.log(crimeRatePerCapita)   R-squared:                       0.238\n",
            "Model:                                    OLS   Adj. R-squared:                  0.236\n",
            "Method:                         Least Squares   F-statistic:                     109.9\n",
            "Date:                        Sat, 13 Jun 2020   Prob (F-statistic):           1.48e-22\n",
            "Time:                                14:53:03   Log-Likelihood:                -727.67\n",
            "No. Observations:                         354   AIC:                             1459.\n",
            "Df Residuals:                             352   BIC:                             1467.\n",
            "Df Model:                                   1                                         \n",
            "Covariance Type:                    nonrobust                                         \n",
            "==================================================================================\n",
            "                     coef    std err          t      P>|t|      [0.025      0.975]\n",
            "----------------------------------------------------------------------------------\n",
            "Intercept          1.9107      0.271      7.062      0.000       1.379       2.443\n",
            "medianValue_Ks    -0.1198      0.011    -10.482      0.000      -0.142      -0.097\n",
            "==============================================================================\n",
            "Omnibus:                       11.420   Durbin-Watson:                   1.907\n",
            "Prob(Omnibus):                  0.003   Jarque-Bera (JB):               10.764\n",
            "Skew:                           0.376   Prob(JB):                      0.00460\n",
            "Kurtosis:                       2.594   Cond. No.                         63.7\n",
            "==============================================================================\n",
            "\n",
            "Warnings:\n",
            "[1] Standard Errors assume that the covariance matrix of the errors is correctly specified.\n"
          ],
          "name": "stdout"
        }
      ]
    }
  ]
}