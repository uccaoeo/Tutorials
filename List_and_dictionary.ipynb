{
  "nbformat": 4,
  "nbformat_minor": 0,
  "metadata": {
    "colab": {
      "name": "Untitled0.ipynb",
      "provenance": [],
      "authorship_tag": "ABX9TyO9RrdhnMgXuj3g2pQkBl7E",
      "include_colab_link": true
    },
    "kernelspec": {
      "name": "python3",
      "display_name": "Python 3"
    }
  },
  "cells": [
    {
      "cell_type": "markdown",
      "metadata": {
        "id": "view-in-github",
        "colab_type": "text"
      },
      "source": [
        "<a href=\"https://colab.research.google.com/github/uccaoeo/Tutorials/blob/master/List_and_dictionary.ipynb\" target=\"_parent\"><img src=\"https://colab.research.google.com/assets/colab-badge.svg\" alt=\"Open In Colab\"/></a>"
      ]
    },
    {
      "cell_type": "code",
      "metadata": {
        "id": "nIqvMDO9hcI2",
        "colab_type": "code",
        "colab": {
          "base_uri": "https://localhost:8080/",
          "height": 156
        },
        "outputId": "451101ec-212b-4b9c-db70-6963ee36aaec"
      },
      "source": [
        "algorithm = ['Linear Regression', 'Logistic Regression', 'RandomForest', 'a3c']\n",
        "learning = ['Supervised', 'Supervised', 'Supervised', 'Reinforcement']\n",
        "algorithm_type = ['Regression', 'Classification', 'Regression or Classification','Game AI']\n",
        "algorithm.append('k-means')\n",
        "print(algorithm)\n",
        "learning.append('Unsupervised')\n",
        "print(learning)\n",
        "algorithm_type.append('Clustering')\n",
        "print(algorithm_type)\n",
        "machine_learning = {}\n",
        "machine_learning['algorithm'] = algorithm\n",
        "print(machine_learning)\n",
        "machine_learning['Learning'] = learning\n",
        "machine_learning['algorithm_type'] = algorithm_type\n",
        "print(machine_learning)\n",
        "machine_learning['algorithm'].remove('a3c')\n",
        "print(machine_learning['algorithm'])\n",
        "machine_learning['Learning'].remove('Reinforcement')\n",
        "machine_learning['algorithm_type'].remove('Game AI')\n",
        "print(machine_learning)"
      ],
      "execution_count": 11,
      "outputs": [
        {
          "output_type": "stream",
          "text": [
            "['Linear Regression', 'Logistic Regression', 'RandomForest', 'a3c', 'k-means']\n",
            "['Supervised', 'Supervised', 'Supervised', 'Reinforcement', 'Unsupervised']\n",
            "['Regression', 'Classification', 'Regression or Classification', 'Game AI', 'Clustering']\n",
            "{'algorithm': ['Linear Regression', 'Logistic Regression', 'RandomForest', 'a3c', 'k-means']}\n",
            "{'algorithm': ['Linear Regression', 'Logistic Regression', 'RandomForest', 'a3c', 'k-means'], 'Learning': ['Supervised', 'Supervised', 'Supervised', 'Reinforcement', 'Unsupervised'], 'algorithm_type': ['Regression', 'Classification', 'Regression or Classification', 'Game AI', 'Clustering']}\n",
            "['Linear Regression', 'Logistic Regression', 'RandomForest', 'k-means']\n",
            "{'algorithm': ['Linear Regression', 'Logistic Regression', 'RandomForest', 'k-means'], 'Learning': ['Supervised', 'Supervised', 'Supervised', 'Unsupervised'], 'algorithm_type': ['Regression', 'Classification', 'Regression or Classification', 'Clustering']}\n"
          ],
          "name": "stdout"
        }
      ]
    }
  ]
}