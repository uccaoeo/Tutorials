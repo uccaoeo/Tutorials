{
  "nbformat": 4,
  "nbformat_minor": 0,
  "metadata": {
    "colab": {
      "name": "Multiprocessing.ipynb",
      "provenance": [],
      "collapsed_sections": [],
      "authorship_tag": "ABX9TyMRpQtZb+ZJChwQTZhj3NOj",
      "include_colab_link": true
    },
    "kernelspec": {
      "name": "python3",
      "display_name": "Python 3"
    },
    "language_info": {
      "name": "python"
    }
  },
  "cells": [
    {
      "cell_type": "markdown",
      "metadata": {
        "id": "view-in-github",
        "colab_type": "text"
      },
      "source": [
        "<a href=\"https://colab.research.google.com/github/uccaoeo/Tutorials/blob/master/Multiprocessing.ipynb\" target=\"_parent\"><img src=\"https://colab.research.google.com/assets/colab-badge.svg\" alt=\"Open In Colab\"/></a>"
      ]
    },
    {
      "cell_type": "code",
      "metadata": {
        "id": "Y2jvw6Z5ldXn"
      },
      "source": [
        "import time\n",
        "import multiprocessing"
      ],
      "execution_count": 1,
      "outputs": []
    },
    {
      "cell_type": "code",
      "metadata": {
        "colab": {
          "base_uri": "https://localhost:8080/"
        },
        "id": "U73LUfyXpaN_",
        "outputId": "fd675616-0fd2-4499-a0cd-063a2e6acfe7"
      },
      "source": [
        "\"\"\"calling the function sleep_man twice. done in 2 seconds\"\"\"\n",
        "def sleepy_man():\n",
        "  print('Starting to Sleep')\n",
        "  time.sleep(1)\n",
        "  print('Done Sleeping')\n",
        "\n",
        "tic = time.time()\n",
        "sleepy_man()\n",
        "sleepy_man()\n",
        "toc = time.time()\n",
        "print('Done in {:.4f} seconds'.format(toc-tic))"
      ],
      "execution_count": 6,
      "outputs": [
        {
          "output_type": "stream",
          "text": [
            "Starting to Sleep\n",
            "Done Sleeping\n",
            "Starting to Sleep\n",
            "Done Sleeping\n",
            "Done in 2.0062 seconds\n"
          ],
          "name": "stdout"
        }
      ]
    },
    {
      "cell_type": "code",
      "metadata": {
        "colab": {
          "base_uri": "https://localhost:8080/"
        },
        "id": "PoFk7OI9qatQ",
        "outputId": "60c6dc38-ce08-4c0a-99e5-142d875a8a93"
      },
      "source": [
        "\"\"\"Using multiprocessing to repeat the same task\"\"\"\n",
        "def sleepy_man():\n",
        "  print('Starting to Sleep')\n",
        "  time.sleep(1)\n",
        "  print('Done sleeping')\n",
        "\n",
        "tic = time.time()\n",
        "p1 = multiprocessing.Process(target=sleepy_man)\n",
        "p2 = multiprocessing.Process(target=sleepy_man)\n",
        "p1.start()\n",
        "p2.start()\n",
        "toc = time.time()\n",
        "print('Done in {:.4f} seconds'.format(toc-tic))\n",
        "# notice the print was executed first....because it runs along in parallel with\\\n",
        "# the 2 multiprocessing task. TO avoid this, use the join function."
      ],
      "execution_count": 7,
      "outputs": [
        {
          "output_type": "stream",
          "text": [
            "Done in 0.0189 seconds\n",
            "Starting to Sleep\n",
            "Starting to Sleep\n",
            "Done sleeping\n",
            "Done sleeping\n"
          ],
          "name": "stdout"
        }
      ]
    },
    {
      "cell_type": "code",
      "metadata": {
        "colab": {
          "base_uri": "https://localhost:8080/"
        },
        "id": "y4Wv-wC7tZl4",
        "outputId": "93e9f2b1-19cc-4788-af2f-7a4a7f644e5f"
      },
      "source": [
        "def sleepy_man():\n",
        "  print('Starting to Sleep')\n",
        "  time.sleep(1)\n",
        "  print('Done sleeping')\n",
        "\n",
        "tic = time.time()\n",
        "p1 = multiprocessing.Process(target=sleepy_man)\n",
        "p2 = multiprocessing.Process(target=sleepy_man)\n",
        "p1.start()\n",
        "p2.start()\n",
        "p1.join()  # wait until child process executes\n",
        "p2.join()\n",
        "toc = time.time()\n",
        "print('Done in {:.4f} seconds'.format(toc-tic))"
      ],
      "execution_count": 8,
      "outputs": [
        {
          "output_type": "stream",
          "text": [
            "Starting to Sleep\n",
            "Starting to Sleep\n",
            "Done sleeping\n",
            "Done sleeping\n",
            "Done in 1.0321 seconds\n"
          ],
          "name": "stdout"
        }
      ]
    },
    {
      "cell_type": "code",
      "metadata": {
        "colab": {
          "base_uri": "https://localhost:8080/"
        },
        "id": "z-fxka1StxMo",
        "outputId": "5589e0d4-2faa-4680-ae6e-b7a6c42b154f"
      },
      "source": [
        "def sleepy_man():\n",
        "  print('Starting to Sleep')\n",
        "  time.sleep(1)\n",
        "  print('Done sleeping')\n",
        "\n",
        "tic = time.time()\n",
        "process_list = []\n",
        "for i in range(10):\n",
        "  p = multiprocessing.Process(target = sleepy_man)\n",
        "  p.start()\n",
        "  process_list.append(p)\n",
        "for process in process_list:\n",
        "  process.join()\n",
        "toc = time.time()\n",
        "print('Done in {:.4f} seconds'.format(toc-tic))"
      ],
      "execution_count": 11,
      "outputs": [
        {
          "output_type": "stream",
          "text": [
            "Starting to Sleep\n",
            "Starting to Sleep\n",
            "Starting to Sleep\n",
            "Starting to Sleep\n",
            "Starting to Sleep\n",
            "Starting to Sleep\n",
            "Starting to Sleep\n",
            "Starting to Sleep\n",
            "Starting to Sleep\n",
            "Starting to Sleep\n",
            "Done sleeping\n",
            "Done sleeping\n",
            "Done sleeping\n",
            "Done sleeping\n",
            "Done sleeping\n",
            "Done sleeping\n",
            "Done sleeping\n",
            "Done sleeping\n",
            "Done sleeping\n",
            "Done sleeping\n",
            "Done in 1.1451 seconds\n"
          ],
          "name": "stdout"
        }
      ]
    },
    {
      "cell_type": "code",
      "metadata": {
        "colab": {
          "base_uri": "https://localhost:8080/"
        },
        "id": "oCiO2Zoxur8H",
        "outputId": "71b314dd-ff45-4520-cb40-c0494d601e58"
      },
      "source": [
        "def sleepy_man(sec):\n",
        "  print('Starting to Sleep')\n",
        "  time.sleep(sec)\n",
        "  print('Done sleeping')\n",
        "\n",
        "tic = time.time()\n",
        "process_list = []\n",
        "for i in range(10):\n",
        "  p = multiprocessing.Process(target = sleepy_man, args=[2])\n",
        "  p.start()\n",
        "  process_list.append(p)\n",
        "for process in process_list:\n",
        "  process.join()\n",
        "toc = time.time()\n",
        "print('Done in {:.4f} seconds'.format(toc-tic))"
      ],
      "execution_count": 13,
      "outputs": [
        {
          "output_type": "stream",
          "text": [
            "Starting to Sleep\n",
            "Starting to Sleep\n",
            "Starting to Sleep\n",
            "Starting to Sleep\n",
            "Starting to Sleep\n",
            "Starting to Sleep\n",
            "Starting to Sleep\n",
            "Starting to Sleep\n",
            "Starting to Sleep\n",
            "Starting to Sleep\n",
            "Done sleeping\n",
            "Done sleeping\n",
            "Done sleeping\n",
            "Done sleeping\n",
            "Done sleeping\n",
            "Done sleeping\n",
            "Done sleeping\n",
            "Done sleeping\n",
            "Done sleeping\n",
            "Done sleeping\n",
            "Done in 2.1615 seconds\n"
          ],
          "name": "stdout"
        }
      ]
    },
    {
      "cell_type": "code",
      "metadata": {
        "colab": {
          "base_uri": "https://localhost:8080/"
        },
        "id": "0HxBhZosvJsR",
        "outputId": "c9202c1c-186c-41ac-94a2-a9f1a98232f8"
      },
      "source": [
        "\"\"\"Pool class is a  better way to deploy Multi-Processing because it distributes\\\n",
        " the tasks to available processors using the First In First Out schedule. It is \\\n",
        " almost similar to the map-reduce architecture- in essence, it maps the input to\\\n",
        "  different processors and collects the output from all processors as a list. \n",
        "  The processes in execution are stored in memory and other non-executing processes are stored out of memory.\"\"\"\n",
        "import multiprocessing\n",
        "import time\n",
        "def sleepy_man(sec):\n",
        "  print('starting to sleep for {} seconds'.format(sec))\n",
        "  time.sleep(sec)\n",
        "  print('Done sleeping in {} seconds'. format(sec))\n",
        "tic = time.time()\n",
        "pool = multiprocessing.Pool(5) # this defines the number of workers i.e 5 workers\n",
        "pool.map(sleepy_man, range(1,11)) # this function pool.map() triggers the function execution\n",
        "pool.close()\n",
        "\n",
        "toc = time.time()\n",
        "print('Done in {:.4f} seconds'. format(toc-tic))"
      ],
      "execution_count": 15,
      "outputs": [
        {
          "output_type": "stream",
          "text": [
            "starting to sleep for 1 seconds\n",
            "starting to sleep for 5 seconds\n",
            "starting to sleep for 4 seconds\n",
            "starting to sleep for 2 seconds\n",
            "starting to sleep for 3 seconds\n",
            "Done sleeping in 1 seconds\n",
            "starting to sleep for 6 seconds\n",
            "Done sleeping in 2 seconds\n",
            "starting to sleep for 7 seconds\n",
            "Done sleeping in 3 seconds\n",
            "starting to sleep for 8 seconds\n",
            "Done sleeping in 4 seconds\n",
            "starting to sleep for 9 seconds\n",
            "Done sleeping in 5 seconds\n",
            "starting to sleep for 10 seconds\n",
            "Done sleeping in 6 seconds\n",
            "Done sleeping in 7 seconds\n",
            "Done sleeping in 8 seconds\n",
            "Done sleeping in 9 seconds\n",
            "Done sleeping in 10 seconds\n",
            "Done in 15.0717 seconds\n"
          ],
          "name": "stdout"
        }
      ]
    },
    {
      "cell_type": "code",
      "metadata": {
        "colab": {
          "base_uri": "https://localhost:8080/"
        },
        "id": "TtF3A3pGlnMo",
        "outputId": "bc5a3e1a-c0d2-4794-d810-396d17dde092"
      },
      "source": [
        "\n",
        "def is_perf(n):\n",
        "  sum_square = 0\n",
        "  for i in range(1,n):\n",
        "    if (n % i == 0):\n",
        "      sum_square += i\n",
        "  if sum_square == n:\n",
        "      print('{} is a perfect number'.format(n))\n",
        "tic = time.time()\n",
        "for n in range(1, 100000):\n",
        "  is_perf(n)\n",
        "toc = time.time()\n",
        "print('Done in {:.4f} seconds'.format(toc-tic))\n"
      ],
      "execution_count": 5,
      "outputs": [
        {
          "output_type": "stream",
          "text": [
            "6 is a perfect number\n",
            "28 is a perfect number\n",
            "496 is a perfect number\n",
            "8128 is a perfect number\n",
            "Done in 416.7472 seconds\n"
          ],
          "name": "stdout"
        }
      ]
    },
    {
      "cell_type": "code",
      "metadata": {
        "id": "DwSP2M5O3qCF"
      },
      "source": [
        "#USING A PROCESS CLASS\n",
        "\"\"\"TAKES FOREVER TO RUN>>>DO NOT LOAD\"\"\"\n",
        "def is_perf(n):\n",
        "  sum_square = 0\n",
        "  for i in range(1,n):\n",
        "    if (n % i == 0):\n",
        "      sum_square += i\n",
        "  if sum_square == n:\n",
        "      print('{} is a perfect number'.format(n))\n",
        "tic = time.time()\n",
        "processes = []\n",
        "for i in range(1,100000):\n",
        "  p=multiprocessing.Process(target=is_perf, args=(i,))\n",
        "  processes.append(p)\n",
        "  p.start()\n",
        "for process in processes:\n",
        "  process.join()\n",
        "toc = time.time()\n",
        "print('Done in {:.4f} seconds'.format(toc-tic))"
      ],
      "execution_count": null,
      "outputs": []
    },
    {
      "cell_type": "code",
      "metadata": {
        "colab": {
          "base_uri": "https://localhost:8080/"
        },
        "id": "F6wRNlBWzhnM",
        "outputId": "8defe876-9cd8-4e84-d1a4-a37cd4f2a035"
      },
      "source": [
        "#USING A POOL CLASS\n",
        "def is_perf(n):\n",
        "  sum_square = 0\n",
        "  for i in range(1,n):\n",
        "    if (n % i == 0):\n",
        "      sum_square += i\n",
        "  if sum_square == n:\n",
        "      print('{} is a perfect number'.format(n))\n",
        "tic = time.time()\n",
        "pool = multiprocessing.Pool(10)\n",
        "pool.map(is_perf, range(1,100000))\n",
        "pool.close\n",
        "toc = time.time()\n",
        "print('Done in {:.4f} seconds'.format(toc-tic))"
      ],
      "execution_count": 20,
      "outputs": [
        {
          "output_type": "stream",
          "text": [
            "6 is a perfect number\n",
            "28 is a perfect number\n",
            "496 is a perfect number\n",
            "8128 is a perfect number\n",
            "Done in 449.6716 seconds\n"
          ],
          "name": "stdout"
        }
      ]
    }
  ]
}